{
 "cells": [
  {
   "cell_type": "code",
   "execution_count": 1,
   "id": "exact-disposal",
   "metadata": {},
   "outputs": [],
   "source": [
    "from flask import Flask, render_template, redirect, url_for, request\n",
    "from selenium import webdriver\n",
    "from selenium.webdriver.chrome.options import  Options\n",
    "from selenium.webdriver.common.by import By\n",
    "from selenium.webdriver.support.ui import WebDriverWait\n",
    "from selenium.webdriver.support import expected_conditions as EC\n",
    "import time\n",
    "from bs4 import BeautifulSoup\n",
    "from selenium.webdriver.common.keys import Keys\n",
    "\n",
    "keywords = \"bank\"\n",
    "# options.headless = True\n",
    "driver = webdriver.Chrome(\"/home/hp/upwork/scraping/chromedriver\")\n",
    "driver.get('https://pureportal.coventry.ac.uk/en/persons/')\n",
    "WebDriverWait(driver,5).until(EC.element_to_be_clickable((By.XPATH,'//*[@id=\"global-search-input\"]'))).send_keys(keywords)\n",
    "driver.delete_all_cookies()\n",
    "time.sleep(5)\n",
    "driver.maximize_window()\n",
    "\n",
    "# Click on the cookies button \n",
    "WebDriverWait(driver,5).until(EC.element_to_be_clickable((By.XPATH,'/html/body/div[3]/div[3]/div/div[1]/div/div[2]/div/button[2]'))).click()\n",
    "\n",
    "# Enter the input box with keyword\n",
    "driver.find_element_by_xpath('//*[@id=\"global-search-input\"]').send_keys(Keys.ENTER)\n",
    "time.sleep(2)\n",
    "\n",
    "res = driver.page_source\n",
    "soup = BeautifulSoup(res, 'html.parser')\n",
    "data = soup.find('ul', {'class': 'grid-results'})\n",
    "single_card = data.find_all('div', {'class': 'result-container'})\n",
    "\n",
    "\n",
    "\n"
   ]
  },
  {
   "cell_type": "code",
   "execution_count": 2,
   "id": "million-draft",
   "metadata": {},
   "outputs": [
    {
     "data": {
      "text/plain": [
       "<span>Isaiah Oino</span>"
      ]
     },
     "execution_count": 2,
     "metadata": {},
     "output_type": "execute_result"
    }
   ],
   "source": [
    "for card in \n",
    "single_card.find_all('span')[0]"
   ]
  },
  {
   "cell_type": "code",
   "execution_count": 3,
   "id": "noticed-ceiling",
   "metadata": {},
   "outputs": [
    {
     "data": {
      "text/plain": [
       "<span>School of Economics, Finance and Accounting</span>"
      ]
     },
     "execution_count": 3,
     "metadata": {},
     "output_type": "execute_result"
    }
   ],
   "source": [
    "single_card[0].find_all('span')[1]"
   ]
  },
  {
   "cell_type": "code",
   "execution_count": 4,
   "id": "representative-giant",
   "metadata": {},
   "outputs": [
    {
     "data": {
      "text/plain": [
       "<span class=\"minor dimmed\"> - Assistant Professor Academic</span>"
      ]
     },
     "execution_count": 4,
     "metadata": {},
     "output_type": "execute_result"
    }
   ],
   "source": [
    "single_card[0].find_all('span')[2]"
   ]
  },
  {
   "cell_type": "code",
   "execution_count": 5,
   "id": "threatened-pendant",
   "metadata": {},
   "outputs": [
    {
     "data": {
      "text/plain": [
       "<span class=\"stacked-trend-graph-year\">2014</span>"
      ]
     },
     "execution_count": 5,
     "metadata": {},
     "output_type": "execute_result"
    }
   ],
   "source": [
    "single_card[0].find_all('span')[4]"
   ]
  },
  {
   "cell_type": "code",
   "execution_count": 6,
   "id": "earned-retirement",
   "metadata": {},
   "outputs": [
    {
     "data": {
      "text/plain": [
       "<span style=\"height: 100%\"><span class=\"trend-bar-stacked\" style=\"height: 66.66666667%; bottom: 0.0%\" title=\"Research output 2015: 2\"></span></span>"
      ]
     },
     "execution_count": 6,
     "metadata": {},
     "output_type": "execute_result"
    }
   ],
   "source": [
    "single_card[0].find_all('span')[8]"
   ]
  },
  {
   "cell_type": "code",
   "execution_count": 7,
   "id": "polar-smart",
   "metadata": {},
   "outputs": [
    {
     "data": {
      "text/plain": [
       "'2014'"
      ]
     },
     "execution_count": 7,
     "metadata": {},
     "output_type": "execute_result"
    }
   ],
   "source": [
    "single_card[0].find_all('span',{'class':'stacked-trend-graph-year'})"
   ]
  },
  {
   "cell_type": "code",
   "execution_count": 8,
   "id": "regular-period",
   "metadata": {},
   "outputs": [
    {
     "data": {
      "text/plain": [
       "'2019'"
      ]
     },
     "execution_count": 8,
     "metadata": {},
     "output_type": "execute_result"
    }
   ],
   "source": [
    "single_card[0].find_all('span',{'class':'stacked-trend-graph-year'})[1].text"
   ]
  },
  {
   "cell_type": "code",
   "execution_count": 9,
   "id": "bright-administrator",
   "metadata": {},
   "outputs": [
    {
     "ename": "SyntaxError",
     "evalue": "invalid syntax (<ipython-input-9-5a5505a51425>, line 1)",
     "output_type": "error",
     "traceback": [
      "\u001b[0;36m  File \u001b[0;32m\"<ipython-input-9-5a5505a51425>\"\u001b[0;36m, line \u001b[0;32m1\u001b[0m\n\u001b[0;31m    link organisation\u001b[0m\n\u001b[0m         ^\u001b[0m\n\u001b[0;31mSyntaxError\u001b[0m\u001b[0;31m:\u001b[0m invalid syntax\n"
     ]
    }
   ],
   "source": [
    "link organisation"
   ]
  },
  {
   "cell_type": "code",
   "execution_count": 43,
   "id": "realistic-indie",
   "metadata": {},
   "outputs": [
    {
     "name": "stdout",
     "output_type": "stream",
     "text": [
      "Isaiah Oino\n",
      "https://pureportal.coventry.ac.uk/en/organisations/school-of-economics-finance-and-accounting\n",
      " - Assistant Professor Academic\n",
      "2014\n",
      "2019\n",
      "Folajimi Ashiru\n",
      "https://pureportal.coventry.ac.uk/en/organisations/school-of-strategy-and-leadership\n",
      " - Lecturer in Business Strategy\n",
      "2018\n",
      "2020\n",
      "Jon Tucker\n",
      "https://pureportal.coventry.ac.uk/en/organisations/faculty-of-business-law\n",
      " - FBL Visiting Professor in Finance and Accounting\n",
      "1996\n",
      "2019\n",
      "Sailesh Tanna\n",
      "https://pureportal.coventry.ac.uk/en/organisations/research-centre-for-financial-corporate-integrity-2\n",
      " - Associate\n",
      "1997\n",
      "2021\n",
      "Yun Luo\n",
      "https://pureportal.coventry.ac.uk/en/organisations/school-of-strategy-and-leadership\n",
      " - FBL PHD Research Supervisor G8\n",
      "2013\n",
      "2021\n",
      "Zaneta Azuma\n",
      "https://pureportal.coventry.ac.uk/en/organisations/school-of-economics-finance-and-accounting\n",
      " - Assistant Lecturer in Accounting\n",
      "Rashedul Hasan\n",
      "https://pureportal.coventry.ac.uk/en/organisations/school-of-economics-finance-and-accounting\n",
      " - Lecturer in Accounting\n",
      "2018\n",
      "2021\n",
      "Andrews Owusu\n",
      "https://pureportal.coventry.ac.uk/en/organisations/research-centre-for-financial-corporate-integrity-2\n",
      " - Associate\n",
      "2013\n",
      "2021\n",
      "Uchenna Tony-Okeke\n",
      "https://pureportal.coventry.ac.uk/en/organisations/school-of-economics-finance-and-accounting\n",
      " - Associate Head of School - Global Engagement\n",
      "2018\n",
      "2020\n",
      "Ken Baldwin\n",
      "https://pureportal.coventry.ac.uk/en/organisations/research-centre-for-financial-corporate-integrity-2\n",
      " - Associate\n",
      "2005\n",
      "2020\n",
      "Glauco De Vita\n",
      "https://pureportal.coventry.ac.uk/en/organisations/research-centre-for-business-in-society-2\n",
      " - Professor in Business and Management\n",
      "2001\n",
      "2021\n",
      "Sandar Win\n",
      "https://pureportal.coventry.ac.uk/en/organisations/school-of-economics-finance-and-accounting\n",
      " - Curriculum Lead Associate Professor - Academic, Associate\n",
      "2018\n",
      "2021\n",
      "Dennis Chapman\n",
      "https://pureportal.coventry.ac.uk/en/organisations/school-of-strategy-and-leadership\n",
      " - Lecturer in Project Management\n",
      "2005\n",
      "2021\n",
      "Marco Van De Wiel\n",
      "https://pureportal.coventry.ac.uk/en/organisations/centre-for-agroecology-water-and-resilience-2\n",
      " - Reader in Fluvial Processes\n",
      "2002\n",
      "2021\n",
      "Adam Abukari\n",
      "https://pureportal.coventry.ac.uk/en/organisations/research-centre-for-financial-corporate-integrity-2\n",
      " - Research Fellow\n",
      "2020\n",
      "2020\n",
      "Salem Alhababsah\n",
      "https://pureportal.coventry.ac.uk/en/organisations/research-centre-for-financial-corporate-integrity-2\n",
      " - Associate\n",
      "2018\n",
      "2021\n",
      "Alim Abubakre\n",
      "https://pureportal.coventry.ac.uk/en/organisations/school-of-strategy-and-leadership\n",
      " - Lecturer in Business Management\n",
      "2019\n",
      "2021\n",
      "Eliana Lauretta\n",
      "https://pureportal.coventry.ac.uk/en/organisations/school-of-economics-finance-and-accounting\n",
      " - Lecturer in Finance\n",
      "2011\n",
      "2020\n",
      "Patricia Sellick\n",
      "https://pureportal.coventry.ac.uk/en/organisations/centre-for-trust-peace-and-social-relations-2\n",
      " - Associate Professor Research\n",
      "2016\n",
      "2020\n",
      "Nathanael Tilahun\n",
      "https://pureportal.coventry.ac.uk/en/organisations/research-centre-for-financial-corporate-integrity-2\n",
      " - Assistant Professor Research\n",
      "2012\n",
      "2021\n",
      "Lindsey Appleyard\n",
      "https://pureportal.coventry.ac.uk/en/organisations/research-centre-for-business-in-society-2\n",
      " - Assistant Professor Research\n",
      "2009\n",
      "2021\n",
      "Matteo Rubinato\n",
      "https://pureportal.coventry.ac.uk/en/organisations/centre-for-agroecology-water-and-resilience-2\n",
      " - Associate\n",
      "2011\n",
      "2021\n",
      "Ahmed Elmasry\n",
      "https://pureportal.coventry.ac.uk/en/organisations/research-centre-for-financial-corporate-integrity-2\n",
      " - Professor of Corporate Finance and Governance\n",
      "2004\n",
      "2020\n",
      "Stuart MacLennan\n",
      "https://pureportal.coventry.ac.uk/en/organisations/research-centre-for-financial-corporate-integrity-2\n",
      " - Associate\n",
      "2014\n",
      "2021\n",
      "Laura Sulin\n",
      "https://pureportal.coventry.ac.uk/en/organisations/centre-for-trust-peace-and-social-relations-2\n",
      " - Research Assistant\n",
      "2019\n",
      "2021\n",
      "Daniel Aghanya\n",
      "https://pureportal.coventry.ac.uk/en/organisations/school-of-economics-finance-and-accounting\n",
      " - Lecturer in Finance\n",
      "2018\n",
      "2020\n",
      "Daniel Santamaria\n",
      "https://pureportal.coventry.ac.uk/en/organisations/research-centre-for-financial-corporate-integrity-2\n",
      " - Associate\n",
      "2012\n",
      "2019\n",
      "Stephanie Denning\n",
      "https://pureportal.coventry.ac.uk/en/organisations/centre-for-trust-peace-and-social-relations-2\n",
      " - Assistant Professor Research\n",
      "2014\n",
      "2021\n",
      "Aurelie Broeckerhoff\n",
      "https://pureportal.coventry.ac.uk/en/organisations/centre-for-trust-peace-and-social-relations-2\n",
      " - Research Fellow\n",
      "2014\n",
      "2021\n",
      "Marwan Darweish\n",
      "https://pureportal.coventry.ac.uk/en/organisations/centre-for-trust-peace-and-social-relations-2\n",
      " - Associate Professor Academic\n",
      "2010\n",
      "2021\n",
      "Azadeh Pourmalek\n",
      "Simon Huston\n",
      "https://pureportal.coventry.ac.uk/en/organisations/school-of-economics-finance-and-accounting\n",
      " - Lecturer in Accounting\n",
      "2010\n",
      "2021\n",
      "Hafij Ullah\n",
      "https://pureportal.coventry.ac.uk/en/organisations/school-of-economics-finance-and-accounting\n",
      " - Assistant Professor Academic\n",
      "2014\n",
      "2021\n",
      "Umut Turksen\n",
      "https://pureportal.coventry.ac.uk/en/organisations/research-centre-for-financial-corporate-integrity-2\n",
      " - Professor in Law\n",
      "2015\n",
      "2021\n",
      "Steve Foster\n",
      "https://pureportal.coventry.ac.uk/en/organisations/school-of-law\n",
      " - Curriculum Lead Associate Professor - Academic\n",
      "2000\n",
      "2021\n",
      "Masud Ibrahim\n",
      "https://pureportal.coventry.ac.uk/en/organisations/research-centre-for-financial-corporate-integrity-2\n",
      " - Associate\n",
      "2013\n",
      "2020\n",
      "James Silverwood\n",
      "https://pureportal.coventry.ac.uk/en/organisations/school-of-strategy-and-leadership\n",
      " - Lecturer in Emerging Markets\n",
      "2014\n",
      "2021\n",
      "Mike Ashford\n",
      "https://pureportal.coventry.ac.uk/en/organisations/school-of-life-sciences\n",
      " - Lecturer in Sport Coaching\n",
      "2020\n",
      "2021\n",
      "Scott Delahunta\n",
      "https://pureportal.coventry.ac.uk/en/organisations/research-centre-for-dance-research-cdare\n",
      " - Professor in Dance\n",
      "2008\n",
      "2020\n",
      "Donato Vozza\n",
      "https://pureportal.coventry.ac.uk/en/organisations/research-centre-for-financial-corporate-integrity-2\n",
      " - Research Fellow\n",
      "2012\n",
      "2019\n",
      "Anitha Chinnaswamy\n",
      "https://pureportal.coventry.ac.uk/en/organisations/school-of-strategy-and-leadership\n",
      " - Assistant Professor Academic\n",
      "2013\n",
      "2020\n",
      "Peter Finkenbusch\n",
      "https://pureportal.coventry.ac.uk/en/organisations/school-of-humanities\n",
      " - Lecturer in International Relations\n",
      "2016\n",
      "2021\n",
      "Jennifer Ferreira\n",
      "https://pureportal.coventry.ac.uk/en/organisations/research-centre-for-business-in-society-2\n",
      " - Research Fellow\n",
      "2013\n",
      "2021\n",
      "Costantino Grasso\n",
      "https://pureportal.coventry.ac.uk/en/organisations/faculty-of-business-law\n",
      " - FBL Visiting Scholar\n",
      "2015\n",
      "2020\n",
      "Mehtap Hisarciklilar\n",
      "https://pureportal.coventry.ac.uk/en/organisations/research-centre-for-financial-corporate-integrity-2\n",
      " - Associate\n",
      "2005\n",
      "2021\n",
      "Lisa Ganobcsik-Williams\n",
      "https://pureportal.coventry.ac.uk/en/organisations/centre-for-academic-writing\n",
      " - Head of Centre for Academic Writing\n",
      "2002\n",
      "2016\n",
      "Michael Hardy\n",
      "https://pureportal.coventry.ac.uk/en/organisations/centre-for-trust-peace-and-social-relations-2\n",
      " - Professor\n",
      "2009\n",
      "2019\n",
      "Abdurafiu Noah\n",
      "https://pureportal.coventry.ac.uk/en/organisations/school-of-economics-finance-and-accounting\n",
      " - Lecturer in Accounting\n",
      "2007\n",
      "2021\n",
      "Lola Maury\n",
      "Ogechi Ohadomere\n",
      "https://pureportal.coventry.ac.uk/en/organisations/school-of-nursing-midwifery-and-health\n",
      " - Lecturer in Leadership & Management in Health\n",
      "2021\n",
      "2021\n"
     ]
    }
   ],
   "source": [
    "\n",
    "name_list=[]\n",
    "# try:    \n",
    "for card in single_card:\n",
    "    try:\n",
    "        name=card.find('span')\n",
    "        print(name.text)\n",
    "        name_list.append(name.text)\n",
    "        links=card.find('a',{'class':'link organisation'}).get('href')\n",
    "        print(links)\n",
    "        profesion=card.find('span',{'class':'minor dimmed'})\n",
    "        print(profesion.text)\n",
    "        date_start=card.find_all('span',{'class':'stacked-trend-graph-year'})\n",
    "        if len(date_start)>0:\n",
    "\n",
    "            print(date_start[0].text)\n",
    "            print(date_start[1].text)\n",
    "    except:\n",
    "        pass\n"
   ]
  },
  {
   "cell_type": "code",
   "execution_count": 44,
   "id": "annoying-hobby",
   "metadata": {},
   "outputs": [
    {
     "data": {
      "text/plain": [
       "50"
      ]
     },
     "execution_count": 44,
     "metadata": {},
     "output_type": "execute_result"
    }
   ],
   "source": [
    "len(name_list)"
   ]
  },
  {
   "cell_type": "code",
   "execution_count": null,
   "id": "paperback-liechtenstein",
   "metadata": {},
   "outputs": [],
   "source": []
  }
 ],
 "metadata": {
  "kernelspec": {
   "display_name": "Python 3",
   "language": "python",
   "name": "python3"
  },
  "language_info": {
   "codemirror_mode": {
    "name": "ipython",
    "version": 3
   },
   "file_extension": ".py",
   "mimetype": "text/x-python",
   "name": "python",
   "nbconvert_exporter": "python",
   "pygments_lexer": "ipython3",
   "version": "3.8.0"
  }
 },
 "nbformat": 4,
 "nbformat_minor": 5
}
